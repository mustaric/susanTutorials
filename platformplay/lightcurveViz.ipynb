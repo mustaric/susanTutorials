{
 "cells": [
  {
   "cell_type": "code",
   "execution_count": 5,
   "metadata": {},
   "outputs": [],
   "source": [
    "%matplotlib widget\n",
    "import numpy as mp\n",
    "import lightkurve as lk\n",
    "import ipywidgets as widgets\n",
    "from astroquery.mast import Observations\n",
    "from astroquery.mast import Catalogs\n",
    "from IPython.display import display\n",
    "import matplotlib.pyplot as plt\n"
   ]
  },
  {
   "cell_type": "code",
   "execution_count": 7,
   "metadata": {},
   "outputs": [],
   "source": [
    "def plotLightcurve(ticid, mission='TESS'):    \n",
    "    \"\"\"\n",
    "    For a given TIC ID, create a set of plots showing all TESS light curves.\n",
    "    \"\"\"\n",
    "    \n",
    "    lc_array = lk.search_lightcurvefile(ticid).download_all()\n",
    "    lc_pdc = lc_array.PDCSAP_FLUX.stitch()\n",
    "    \n",
    "    lc_pdc.plot()\n",
    "        "
   ]
  },
  {
   "cell_type": "code",
   "execution_count": 22,
   "metadata": {},
   "outputs": [
    {
     "data": {
      "application/vnd.jupyter.widget-view+json": {
       "model_id": "966ad1bb9c074e03b6b5db4c077df1cf",
       "version_major": 2,
       "version_minor": 0
      },
      "text/plain": [
       "IntText(value=1234567, description='TIC ID:')"
      ]
     },
     "metadata": {},
     "output_type": "display_data"
    }
   ],
   "source": [
    "text = widgets.IntText(description='TIC ID:', value=1234567)\n",
    "output = widgets.Output()\n",
    "\n",
    "def textChangeAction(change):\n",
    "    output.clear_output()\n",
    "    with output:\n",
    "        try:\n",
    "            print('Retrieving data for TIC ID %u' % change['new']['value'])\n",
    "            str_tic = \"TIC %u\" % change['new']['value']\n",
    "            plotLightcurve(str_tic)\n",
    "        except:\n",
    "            pass\n",
    " \n",
    "text.observe(textChangeAction)\n",
    "display(text)"
   ]
  },
  {
   "cell_type": "code",
   "execution_count": 23,
   "metadata": {},
   "outputs": [
    {
     "data": {
      "application/vnd.jupyter.widget-view+json": {
       "model_id": "5fecf7b72f4f4037b8d5ab6e1c4bf4bf",
       "version_major": 2,
       "version_minor": 0
      },
      "text/plain": [
       "Output()"
      ]
     },
     "metadata": {},
     "output_type": "display_data"
    }
   ],
   "source": [
    "display(output)"
   ]
  },
  {
   "cell_type": "code",
   "execution_count": null,
   "metadata": {},
   "outputs": [],
   "source": []
  },
  {
   "cell_type": "code",
   "execution_count": null,
   "metadata": {},
   "outputs": [],
   "source": []
  },
  {
   "cell_type": "code",
   "execution_count": null,
   "metadata": {},
   "outputs": [],
   "source": []
  }
 ],
 "metadata": {
  "kernelspec": {
   "display_name": "Python 3",
   "language": "python",
   "name": "python3"
  },
  "language_info": {
   "codemirror_mode": {
    "name": "ipython",
    "version": 3
   },
   "file_extension": ".py",
   "mimetype": "text/x-python",
   "name": "python",
   "nbconvert_exporter": "python",
   "pygments_lexer": "ipython3",
   "version": "3.7.3"
  }
 },
 "nbformat": 4,
 "nbformat_minor": 2
}
