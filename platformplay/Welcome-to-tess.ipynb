{
 "cells": [
  {
   "cell_type": "markdown",
   "metadata": {},
   "source": [
    "# Welcome to MAST's Research Space for TESS\n",
    "\n",
    "You have entered a computational environment running on an AWS server, sponsored by the Mikulski Archive for Space Telescopes.  \n",
    "This space is intended to allow you to:\n",
    "* Learn how to work with MAST's time series data sets\n",
    "* Explore and Visualize the TESS/Kepler/K2 data sets along with other MAST holdings.\n",
    "* Perform computations against large amounts of TESS data without having to download the data to your computer first.\n",
    "* Collaborate with your fellow researchers by sharing your analysis."
   ]
  },
  {
   "cell_type": "markdown",
   "metadata": {},
   "source": [
    "# Getting familiar with your environment\n",
    "\n",
    "To the left you will find a file browser listing example notebooks. These notebooks are all in Python and can be run within JupyterHub Instance.\n",
    "If you are more comfortable with a terminal, click on the plus sign and then the terminal.\n",
    "\n",
    "From the terminal you can also interact with git to pull down your repositories.\n",
    "\n",
    "\n"
   ]
  },
  {
   "cell_type": "markdown",
   "metadata": {},
   "source": [
    "----"
   ]
  },
  {
   "cell_type": "markdown",
   "metadata": {},
   "source": [
    "# Where to Start\n",
    "All of these tutorials depends on a certain amount of knowledge with python, astronomy and TESS. We try to keep this knowledge at the level of a beginning graduate student. We provide links below for more documentation and tools if you are not familiar with these areas.\n",
    "\n",
    "## Learn the basics of time series data.\n",
    "To get started working with the TESS data, try exploring the notebooks available under the TESS directory. These tutorials:\n",
    "* Take a tour of what information is found in the light curve and target pixel files.\n",
    "* Show how to retrieve data using astroquery.\n",
    "* Show how to get parts of the Full Frame Image data using the cloud-hosted TESScut service.\n",
    "* Overlaying TESS and PanStarrs or other MAST data.\n",
    "\n",
    "## Learn about working in the AWS Cloud\n",
    "There are some differences between doing research in the cloud vs. on your own local machine. See the tutorials under the cloud diretory on the left.  Tutorials of interest might be:\n",
    "* An Introduction to the AWS cloud, getting credentials and which MAST Data sets that are available in the cloud.\n",
    "* Writing and retrieving data from S3 Buckets, for those who need to create a lot of data.\n",
    "* Speeding-up processes with Dask.\n",
    "\n",
    "## Visualizations\n",
    "There are certain visualizations that are common for those working with time series data.  These notebooks quickly show you how to use common software to visualize the data\n",
    "* Overlay the TESS Input Catalog on a TESS Image for a target of interest.\n",
    "* Get the Periodogram and BLS spectrum of a target of interest.\n",
    "* Compare various light curves produced in different ways on the same target.\n",
    "* Quickly query MAST's TESS holdings, performing typical filters\n",
    "\n",
    "## TESS Related Science Cases to Explore\n",
    "* Exoplanet vetting plots\n",
    "* Fit an exoplanet transit with batman or exoplanet??\n",
    "* Measure stellar rotation\n",
    "* Identify the pulsation frequencies\n",
    "* Phoebe Example  (Andrej or Kelly)\n"
   ]
  },
  {
   "cell_type": "markdown",
   "metadata": {},
   "source": [
    "----"
   ]
  },
  {
   "cell_type": "markdown",
   "metadata": {},
   "source": [
    "# Collaboration\n",
    "This space allows your entire team to all run the same notebook to get process the same data set.  You can share a file by...\n"
   ]
  },
  {
   "cell_type": "markdown",
   "metadata": {},
   "source": [
    "\n",
    "# What's under the hood?\n",
    "List of Python packages available.\n",
    "How much disk space?\n",
    "How much computation?"
   ]
  },
  {
   "cell_type": "markdown",
   "metadata": {},
   "source": [
    "# Contributing Back\n",
    "Do you have ideas for notebooks and tutorials that are missing that you would like to share with a wider audience.  If so, please contact us, or see this github for how to contribute."
   ]
  },
  {
   "cell_type": "markdown",
   "metadata": {},
   "source": [
    "# Take a Step Back, Other Resources\n",
    "If you are not familiar with python or TESS you might find some of these resources helpful.\n",
    "* Introduction to Python\n",
    "* TESS Archive Manual\n",
    "* Introduction to AWS manual\n",
    "* TESS \n"
   ]
  },
  {
   "cell_type": "code",
   "execution_count": null,
   "metadata": {},
   "outputs": [],
   "source": []
  }
 ],
 "metadata": {
  "kernelspec": {
   "display_name": "Python 3",
   "language": "python",
   "name": "python3"
  },
  "language_info": {
   "codemirror_mode": {
    "name": "ipython",
    "version": 3
   },
   "file_extension": ".py",
   "mimetype": "text/x-python",
   "name": "python",
   "nbconvert_exporter": "python",
   "pygments_lexer": "ipython3",
   "version": "3.7.3"
  }
 },
 "nbformat": 4,
 "nbformat_minor": 2
}
